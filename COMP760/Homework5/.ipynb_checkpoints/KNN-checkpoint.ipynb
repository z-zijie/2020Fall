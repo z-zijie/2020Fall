{
 "cells": [
  {
   "cell_type": "code",
   "execution_count": 187,
   "metadata": {},
   "outputs": [],
   "source": [
    "import numpy as np\n",
    "from sklearn.model_selection import train_test_split"
   ]
  },
  {
   "cell_type": "code",
   "execution_count": 188,
   "metadata": {},
   "outputs": [],
   "source": [
    "# import data\n",
    "data = np.delete(np.genfromtxt('titanic_data.csv', delimiter=','), 0, 0)\n",
    "X = data[:,1:]\n",
    "y_label = data[:,0]"
   ]
  },
  {
   "cell_type": "code",
   "execution_count": 189,
   "metadata": {},
   "outputs": [],
   "source": [
    "# transform\n",
    "for i in range(X.shape[1]):\n",
    "    if i == 1:\n",
    "        continue\n",
    "    X[:,i] = (X[:,i] - np.min(X[:,i]))/(np.max(X[:,i]) - np.min(X[:,i]))\n",
    "#     X[:,i] = (X[:,i] - np.mean(X[:,i])) / np.std(X[:,i])"
   ]
  },
  {
   "cell_type": "code",
   "execution_count": 190,
   "metadata": {},
   "outputs": [],
   "source": [
    "# generate train_set and test_set\n",
    "X_train, X_test, y_train, y_test = train_test_split(X, y_label, test_size=0.2)"
   ]
  },
  {
   "cell_type": "code",
   "execution_count": 191,
   "metadata": {},
   "outputs": [],
   "source": [
    "# metric = 'manhattan'\n",
    "def dis(x,y):\n",
    "    ans = np.sum(np.abs(y-x))\n",
    "    if ans == 0:\n",
    "        return 1e-10\n",
    "    return ans\n",
    "# metric = 'euclidean'\n",
    "def l2(x,y):\n",
    "    ans = np.linalg.norm(x-y)\n",
    "    if ans == 0:\n",
    "        return 1e-10\n",
    "    return ans"
   ]
  },
  {
   "cell_type": "code",
   "execution_count": 192,
   "metadata": {},
   "outputs": [
    {
     "name": "stdout",
     "output_type": "stream",
     "text": [
      "[1.         0.         0.43453129 0.         0.         0.01571255] 0.0\n",
      "0\n"
     ]
    }
   ],
   "source": [
    "# KNN\n",
    "import heapq\n",
    "def knn_predict(k, x, dataset, label):\n",
    "    N = len(dataset)\n",
    "    h = []\n",
    "    for i in range(N):\n",
    "        distance = l2(x, dataset[i])\n",
    "        heapq.heappush(h, (distance, i))\n",
    "    ans = [heapq.heappop(h)[1] for i in range(min(k,N))]\n",
    "    p = sum([label[i] for i in ans])/len(ans)\n",
    "    if (p >= 0.5):\n",
    "        return 1\n",
    "    return 0\n",
    "i = 13\n",
    "k = 5\n",
    "print(X_test[i], y_test[i])\n",
    "print(knn_predict(k, X_test[i], X_train, y_train))"
   ]
  },
  {
   "cell_type": "code",
   "execution_count": 193,
   "metadata": {},
   "outputs": [
    {
     "name": "stdout",
     "output_type": "stream",
     "text": [
      "0.7812852311161218\n"
     ]
    }
   ],
   "source": [
    "# KFold\n",
    "ans = np.zeros(len(X))\n",
    "k = 6\n",
    "from sklearn.model_selection import KFold\n",
    "kf = KFold(n_splits = 5, shuffle = True)\n",
    "kf.get_n_splits(X)\n",
    "for train_index, test_index in kf.split(X):\n",
    "    X_train, X_test = X[train_index], X[test_index]\n",
    "    y_train, y_test = y_label[train_index], y_label[test_index]\n",
    "    for i in range(len(test_index)):\n",
    "        ans[test_index[i]] = (knn_predict(k, X_test[i], X_train, y_train) == y_test[i])\n",
    "accuracy = sum(ans)/len(ans)\n",
    "print(accuracy)"
   ]
  },
  {
   "cell_type": "code",
   "execution_count": 194,
   "metadata": {},
   "outputs": [],
   "source": [
    "# find best k\n",
    "from sklearn.model_selection import KFold\n",
    "def Acc(k, splits):\n",
    "    ans = np.zeros(len(X))\n",
    "    kf = KFold(n_splits = splits, shuffle = True)\n",
    "    kf.get_n_splits(X)\n",
    "    for train_index, test_index in kf.split(X):\n",
    "        X_train, X_test = X[train_index], X[test_index]\n",
    "        y_train, y_test = y_label[train_index], y_label[test_index]\n",
    "        for i in range(len(test_index)):\n",
    "            ans[test_index[i]] = (knn_predict(k, X_test[i], X_train, y_train) == y_test[i])\n",
    "    accuracy = sum(ans)/len(ans)\n",
    "    return accuracy"
   ]
  },
  {
   "cell_type": "code",
   "execution_count": 195,
   "metadata": {},
   "outputs": [
    {
     "name": "stdout",
     "output_type": "stream",
     "text": [
      "4 0.790304396843292\n",
      "5 0.8128523111612176\n",
      "6 0.8049605411499436\n",
      "7 0.8049605411499436\n",
      "8 0.8015783540022547\n",
      "9 0.8060879368658399\n",
      "10 0.8015783540022547\n"
     ]
    }
   ],
   "source": [
    "for k in range(4,11):\n",
    "    print(k, Acc(k, 10))"
   ]
  },
  {
   "cell_type": "code",
   "execution_count": 196,
   "metadata": {},
   "outputs": [
    {
     "name": "stdout",
     "output_type": "stream",
     "text": [
      "10 0.8094701240135288\n"
     ]
    }
   ],
   "source": [
    "print(k, Acc(5, 10))"
   ]
  },
  {
   "cell_type": "code",
   "execution_count": 211,
   "metadata": {},
   "outputs": [
    {
     "data": {
      "text/plain": [
       "[<matplotlib.lines.Line2D at 0x1cb78f05100>]"
      ]
     },
     "execution_count": 211,
     "metadata": {},
     "output_type": "execute_result"
    },
    {
     "data": {
      "image/png": "[encoded data removed]",
      "text/plain": [
       "<Figure size 432x288 with 1 Axes>"
      ]
     },
     "metadata": {
      "needs_background": "light"
     },
     "output_type": "display_data"
    }
   ],
   "source": [
    "data = np.delete(np.genfromtxt('titanic_data.csv', delimiter=','), 0, 0)\n",
    "x = np.array([1, 1, 22, 1, 0, 71.2833])\n",
    "xx = data[:,1:]\n",
    "# transform\n",
    "for i in range(len(x)):\n",
    "    if i == 1:\n",
    "        continue\n",
    "    x[i] = (x[i] - np.min(xx[:,i]))/(np.max(xx[:,i]) - np.min(xx[:,i]))\n",
    "# predict\n",
    "p = [knn_predict(k, x, X, y_label) for k in range(1,X.shape[0])]\n",
    "import matplotlib.pyplot as plt\n",
    "plt.plot(p)"
   ]
  },
  {
   "cell_type": "code",
   "execution_count": null,
   "metadata": {},
   "outputs": [],
   "source": []
  }
 ],
 "metadata": {
  "kernelspec": {
   "display_name": "Python 3",
   "language": "python",
   "name": "python3"
  },
  "language_info": {
   "codemirror_mode": {
    "name": "ipython",
    "version": 3
   },
   "file_extension": ".py",
   "mimetype": "text/x-python",
   "name": "python",
   "nbconvert_exporter": "python",
   "pygments_lexer": "ipython3",
   "version": "3.8.3"
  }
 },
 "nbformat": 4,
 "nbformat_minor": 4
}
