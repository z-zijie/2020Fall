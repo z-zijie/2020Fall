{
 "cells": [
  {
   "cell_type": "code",
   "execution_count": 13,
   "metadata": {},
   "outputs": [],
   "source": [
    "import pandas as pd\n",
    "import numpy as np\n",
    "import math\n",
    "import scipy.stats as st\n",
    "import networkx as nx\n",
    "import matplotlib.pyplot as plt"
   ]
  },
  {
   "cell_type": "code",
   "execution_count": 14,
   "metadata": {
    "scrolled": true
   },
   "outputs": [
    {
     "name": "stdout",
     "output_type": "stream",
     "text": [
      "         Survived      Pclass  ...  Parents/Children Aboard       Fare\n",
      "count  887.000000  887.000000  ...               887.000000  887.00000\n",
      "mean     0.385569    2.305524  ...                 0.383315   32.30542\n",
      "std      0.487004    0.836662  ...                 0.807466   49.78204\n",
      "min      0.000000    1.000000  ...                 0.000000    0.00000\n",
      "25%      0.000000    2.000000  ...                 0.000000    7.92500\n",
      "50%      0.000000    3.000000  ...                 0.000000   14.45420\n",
      "75%      1.000000    3.000000  ...                 0.000000   31.13750\n",
      "max      1.000000    3.000000  ...                 6.000000  512.32920\n",
      "\n",
      "[8 rows x 7 columns]\n",
      "- - - - - - - - - - - - - - - - - - - -\n"
     ]
    }
   ],
   "source": [
    "# Load dataset\n",
    "data = pd.read_csv('titanic_data.csv')\n",
    "COUNT = data.count()[0]\n",
    "print(data.describe())\n",
    "print('- - - - - - - - - - - - - - - - - - - -')"
   ]
  },
  {
   "cell_type": "code",
   "execution_count": 15,
   "metadata": {},
   "outputs": [
    {
     "name": "stdout",
     "output_type": "stream",
     "text": [
      "First, I divided these six features into two categories.\n",
      "CATEGORICAL_FEATURES and NUMERICAL_FEATURES\n",
      "For CATEGORICAL_FEATURES, I directly convert it to one-hot encoding.\n",
      "For NUMERICAL_FEATURES, binning the data and then convert it to one-hot encoding.\n",
      "       Survived_0  Survived_1  ...  Fare_(22.225, 39.688]  Fare_(39.688, 512.329]\n",
      "count  887.000000  887.000000  ...             887.000000              887.000000\n",
      "mean     0.614431    0.385569  ...               0.201804                0.198422\n",
      "std      0.487004    0.487004  ...               0.401573                0.399036\n",
      "min      0.000000    0.000000  ...               0.000000                0.000000\n",
      "25%      0.000000    0.000000  ...               0.000000                0.000000\n",
      "50%      1.000000    0.000000  ...               0.000000                0.000000\n",
      "75%      1.000000    1.000000  ...               0.000000                0.000000\n",
      "max      1.000000    1.000000  ...               1.000000                1.000000\n",
      "\n",
      "[8 rows x 31 columns]\n",
      "     Survived_0  Survived_1  ...  Fare_(22.225, 39.688]  Fare_(39.688, 512.329]\n",
      "0             1           0  ...                      0                       0\n",
      "1             0           1  ...                      0                       1\n",
      "2             0           1  ...                      0                       0\n",
      "3             0           1  ...                      0                       1\n",
      "4             1           0  ...                      0                       0\n",
      "..          ...         ...  ...                    ...                     ...\n",
      "882           1           0  ...                      0                       0\n",
      "883           0           1  ...                      1                       0\n",
      "884           1           0  ...                      1                       0\n",
      "885           0           1  ...                      1                       0\n",
      "886           1           0  ...                      0                       0\n",
      "\n",
      "[887 rows x 31 columns]\n",
      "- - - - - - - - - - - - - - - - - - - -\n"
     ]
    }
   ],
   "source": [
    "# Variable transform\n",
    "CATEGORICAL_FEATURES = ['Survived', 'Pclass', 'Sex', 'Siblings/Spouses Aboard', 'Parents/Children Aboard']\n",
    "NUMERICAL_FEATURES = ['Age', 'Fare']\n",
    "ALL_FEATURES = CATEGORICAL_FEATURES + NUMERICAL_FEATURES\n",
    "for feature_name in CATEGORICAL_FEATURES:\n",
    "    data = data.join(pd.get_dummies(data[feature_name], prefix=feature_name))\n",
    "    data.drop([feature_name], axis = 1, inplace=True)\n",
    "for feature_name in NUMERICAL_FEATURES:\n",
    "    data = data.join(pd.get_dummies(pd.qcut(data[feature_name], 5), prefix=feature_name))\n",
    "    data.drop([feature_name], axis = 1, inplace=True)\n",
    "features = list(data.columns)\n",
    "print('First, I divided these six features into two categories.')\n",
    "print('CATEGORICAL_FEATURES and NUMERICAL_FEATURES')\n",
    "print('For CATEGORICAL_FEATURES, I directly convert it to one-hot encoding.')\n",
    "print('For NUMERICAL_FEATURES, binning the data and then convert it to one-hot encoding.')\n",
    "print(data.describe())\n",
    "print(data)\n",
    "print('- - - - - - - - - - - - - - - - - - - -')"
   ]
  },
  {
   "cell_type": "code",
   "execution_count": 16,
   "metadata": {},
   "outputs": [],
   "source": [
    "# Entropy\n",
    "def Entropy(FEATURE, data):\n",
    "    ans = 0\n",
    "    for col in features:\n",
    "        if col[:len(FEATURE)] == FEATURE:\n",
    "            pr = data[col].sum()/data[col].count()\n",
    "            if pr == 0:\n",
    "                continue\n",
    "            ans = ans - pr * math.log(pr)\n",
    "    return ans\n",
    "\n",
    "# Conditional Entropy\n",
    "def H(FEATURE1, FEATURE2, data):\n",
    "    ans = 0\n",
    "    for col_y in features:\n",
    "        if col_y[:len(FEATURE2)] == FEATURE2:\n",
    "            Pr_val = data[col_y].sum() / data[col_y].count()\n",
    "            sub_ans = 0\n",
    "            for col_x in features:\n",
    "                if col_x[:len(FEATURE1)] == FEATURE1:\n",
    "                    pr = np.sum(data[col_x]+data[col_y] == 2) / data[col_y].sum()\n",
    "                    if pr == 0:\n",
    "                        continue\n",
    "                    sub_ans = sub_ans - pr * math.log(pr)\n",
    "            ans = ans + Pr_val * sub_ans\n",
    "    return ans\n",
    "\n",
    "# Mutual Information\n",
    "def I(FEATURE1, FEATURE2, data):\n",
    "    return Entropy(FEATURE1, data) - H(FEATURE1, FEATURE2, data)"
   ]
  },
  {
   "cell_type": "code",
   "execution_count": 17,
   "metadata": {},
   "outputs": [
    {
     "data": {
      "text/plain": [
       "0.9420283503592444"
      ]
     },
     "execution_count": 17,
     "metadata": {},
     "output_type": "execute_result"
    }
   ],
   "source": [
    "H(CATEGORICAL_FEATURES[1], CATEGORICAL_FEATURES[0], data)"
   ]
  },
  {
   "cell_type": "code",
   "execution_count": 22,
   "metadata": {},
   "outputs": [],
   "source": [
    "# Find Max_Mutual_Information_feature\n",
    "def Find_Max_Mutual_Information_feature(DATA, ALL_FEATURES):\n",
    "    y_label = ALL_FEATURES[0]\n",
    "    Max_Mutual_Information_feature_name = ALL_FEATURES[1]\n",
    "    Max_Mutual_Information = I(Max_Mutual_Information_feature_name, y_label, DATA)\n",
    "    for feature_name in ALL_FEATURES[1:]:\n",
    "        MI = I(feature_name, y_label, DATA)\n",
    "        if MI > Max_Mutual_Information:\n",
    "            Max_Mutual_Information_feature_name = feature_name\n",
    "            Max_Mutual_Information = MI\n",
    "    print(Max_Mutual_Information)\n",
    "    return Max_Mutual_Information_feature_name"
   ]
  },
  {
   "cell_type": "code",
   "execution_count": 23,
   "metadata": {},
   "outputs": [
    {
     "name": "stdout",
     "output_type": "stream",
     "text": [
      "0.15030862287961178\n",
      "0.026185133916817538\n",
      "Fare 0.4865517701249331 Sex_0 0\n",
      "0.1438780085605199\n",
      "Pclass 0.5709141922481396 Sex_1 1\n",
      "Survived_0 Survived_1\n"
     ]
    }
   ],
   "source": [
    "# Split Data\n",
    "Selected_Feature = Find_Max_Mutual_Information_feature(data, ALL_FEATURES)\n",
    "New_ALL_FEATURES = [Feature for Feature in ALL_FEATURES if Feature != Selected_Feature]\n",
    "features = list(data.columns)\n",
    "vals = [val for val in features if val[:len(Selected_Feature)] == Selected_Feature]\n",
    "for val in vals:\n",
    "    New_data = data[data[val] == 1].drop(vals, axis=1)\n",
    "    entropy = Entropy(ALL_FEATURES[0], New_data)\n",
    "    New_Selected_Feature = Find_Max_Mutual_Information_feature(New_data, New_ALL_FEATURES)\n",
    "    print(New_Selected_Feature, entropy, val, val[len(Selected_Feature)+1:])\n",
    "print(features[0], features[1])"
   ]
  },
  {
   "cell_type": "code",
   "execution_count": 20,
   "metadata": {},
   "outputs": [],
   "source": [
    "class Node:\n",
    "    def __init__(self, feature, value = None):\n",
    "        self.feature = feature\n",
    "        self.val = value\n",
    "        self.children = []\n",
    "        self.children_num = 0\n",
    "\n",
    "    def leaf(self, val, feature):\n",
    "        LEAF = Node(feature, val)\n",
    "        self.children.append(LEAF)\n",
    "        self.children_num = self.children_num + 1"
   ]
  },
  {
   "cell_type": "code",
   "execution_count": 21,
   "metadata": {},
   "outputs": [
    {
     "name": "stdout",
     "output_type": "stream",
     "text": [
      "Sex\n",
      "Fare\n",
      "Age\n",
      "Age\n",
      "Parents/Children Aboard\n",
      "Siblings/Spouses Aboard\n",
      "Age\n",
      "Pclass\n",
      "Age\n",
      "Siblings/Spouses Aboard\n",
      "Pclass\n",
      "Parents/Children Aboard\n",
      "Fare\n",
      "Age\n",
      "Fare\n"
     ]
    },
    {
     "name": "stderr",
     "output_type": "stream",
     "text": [
      "<ipython-input-16-68f10846e613>:6: RuntimeWarning: invalid value encountered in longlong_scalars\n",
      "  pr = data[col].sum()/data[col].count()\n",
      "<ipython-input-16-68f10846e613>:6: RuntimeWarning: invalid value encountered in longlong_scalars\n",
      "  pr = data[col].sum()/data[col].count()\n"
     ]
    }
   ],
   "source": [
    "def BuildTree(data, ALL_FEATURES, val = None, epsilon = 1e-3, alpha = 0.05):\n",
    "    Selected_Feature = Find_Max_Mutual_Information_feature(data, ALL_FEATURES)\n",
    "    node = Node(Selected_Feature, val)\n",
    "    features = list(data.columns)\n",
    "    New_ALL_FEATURES = [Feature for Feature in ALL_FEATURES if Feature != Selected_Feature]\n",
    "    vals = [val for val in features if val[:len(Selected_Feature)] == Selected_Feature]\n",
    "    for val in vals:\n",
    "        New_data = data[data[val] == 1].drop(vals, axis=1)\n",
    "\n",
    "        # stopping criteria\n",
    "        entropy = Entropy(ALL_FEATURES[0], New_data)\n",
    "        if entropy < epsilon or New_data.count()[0] < alpha * COUNT or len(New_ALL_FEATURES) < 2:\n",
    "            if New_data[features[0]].sum() > New_data[features[1]].sum():\n",
    "                node.leaf(val[len(Selected_Feature)+1:], features[0])\n",
    "            else:\n",
    "                node.leaf(val[len(Selected_Feature)+1:], features[1])\n",
    "            return node\n",
    "\n",
    "        ####################\n",
    "        node.children.append(BuildTree(New_data, New_ALL_FEATURES, val[len(Selected_Feature)+1:]))\n",
    "        node.children_num = node.children_num + 1\n",
    "    return node\n",
    "DecisionTree = BuildTree(data, ALL_FEATURES)"
   ]
  },
  {
   "cell_type": "code",
   "execution_count": 10,
   "metadata": {},
   "outputs": [],
   "source": [
    "# Display the Tree"
   ]
  },
  {
   "cell_type": "code",
   "execution_count": 11,
   "metadata": {},
   "outputs": [
    {
     "ename": "NameError",
     "evalue": "name 'x' is not defined",
     "output_type": "error",
     "traceback": [
      "\u001b[1;31m---------------------------------------------------------------------------\u001b[0m",
      "\u001b[1;31mNameError\u001b[0m                                 Traceback (most recent call last)",
      "\u001b[1;32m<ipython-input-11-bdb778944a44>\u001b[0m in \u001b[0;36m<module>\u001b[1;34m\u001b[0m\n\u001b[0;32m      6\u001b[0m \u001b[1;33m\u001b[0m\u001b[0m\n\u001b[0;32m      7\u001b[0m \u001b[1;33m\u001b[0m\u001b[0m\n\u001b[1;32m----> 8\u001b[1;33m \u001b[0mprint\u001b[0m\u001b[1;33m(\u001b[0m\u001b[0mPredict\u001b[0m\u001b[1;33m(\u001b[0m\u001b[0mx\u001b[0m\u001b[1;33m,\u001b[0m \u001b[0mDecisionTree\u001b[0m\u001b[1;33m)\u001b[0m\u001b[1;33m)\u001b[0m\u001b[1;33m\u001b[0m\u001b[1;33m\u001b[0m\u001b[0m\n\u001b[0m",
      "\u001b[1;31mNameError\u001b[0m: name 'x' is not defined"
     ]
    }
   ],
   "source": [
    "# Predict\n",
    "def Predict(x, DecisionTree):\n",
    "    return x\n",
    "\n",
    "\n",
    "\n",
    "\n",
    "print(Predict(x, DecisionTree))"
   ]
  },
  {
   "cell_type": "code",
   "execution_count": null,
   "metadata": {},
   "outputs": [],
   "source": []
  }
 ],
 "metadata": {
  "kernelspec": {
   "display_name": "Python 3",
   "language": "python",
   "name": "python3"
  },
  "language_info": {
   "codemirror_mode": {
    "name": "ipython",
    "version": 3
   },
   "file_extension": ".py",
   "mimetype": "text/x-python",
   "name": "python",
   "nbconvert_exporter": "python",
   "pygments_lexer": "ipython3",
   "version": "3.8.5"
  }
 },
 "nbformat": 4,
 "nbformat_minor": 4
}
