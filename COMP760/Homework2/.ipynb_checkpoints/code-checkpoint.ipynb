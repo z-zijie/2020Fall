{
 "cells": [
  {
   "cell_type": "code",
   "execution_count": 361,
   "metadata": {},
   "outputs": [],
   "source": [
    "import numpy as np\n",
    "import scipy.stats as st"
   ]
  },
  {
   "cell_type": "code",
   "execution_count": 362,
   "metadata": {},
   "outputs": [],
   "source": [
    "y=np.matrix([[110], [140], [180], [190]])\n",
    "X=np.matrix([[180,150], [150,175], [170,165], [185,210]])"
   ]
  },
  {
   "cell_type": "code",
   "execution_count": 363,
   "metadata": {},
   "outputs": [],
   "source": [
    "N = y.shape[0]\n",
    "X_m=np.mean(X,axis=0)"
   ]
  },
  {
   "cell_type": "code",
   "execution_count": 364,
   "metadata": {},
   "outputs": [],
   "source": [
    "# Calc Theta\n",
    "Theta = np.linalg.inv(np.dot(X.T, X))\n",
    "Theta = np.dot(Theta, X.T)\n",
    "Theta = np.dot(Theta, y)"
   ]
  },
  {
   "cell_type": "code",
   "execution_count": 365,
   "metadata": {},
   "outputs": [],
   "source": [
    "# Calc Sigma\n",
    "sigma = 0\n",
    "for i in range(N):\n",
    "    ans = (y[i]-np.dot(X[i], Theta))[0,0]\n",
    "    sigma = sigma + ans * ans\n",
    "sigma = sigma / (N)\n",
    "Sigma = np.diag([sigma]*N)"
   ]
  },
  {
   "cell_type": "code",
   "execution_count": 366,
   "metadata": {},
   "outputs": [
    {
     "name": "stdout",
     "output_type": "stream",
     "text": [
      "Sigma=\n",
      " [[470.7155107   0.          0.          0.       ]\n",
      " [  0.        470.7155107   0.          0.       ]\n",
      " [  0.          0.        470.7155107   0.       ]\n",
      " [  0.          0.          0.        470.7155107]]\n",
      "Theta=\n",
      " [[-0.11278259]\n",
      " [ 0.99759605]]\n"
     ]
    }
   ],
   "source": [
    "print(\"Sigma=\\n\", Sigma)\n",
    "print(\"Theta=\\n\", Theta)"
   ]
  },
  {
   "cell_type": "code",
   "execution_count": 367,
   "metadata": {},
   "outputs": [
    {
     "name": "stdout",
     "output_type": "stream",
     "text": [
      "y_hat=\n",
      " [[149.85437495]]\n"
     ]
    }
   ],
   "source": [
    "x=np.matrix([[175], [170]])\n",
    "y_hat = np.dot(x.T, Theta)\n",
    "print(\"y_hat=\\n\", y_hat)"
   ]
  },
  {
   "cell_type": "code",
   "execution_count": 368,
   "metadata": {},
   "outputs": [
    {
     "data": {
      "text/plain": [
       "64382.72609959852"
      ]
     },
     "execution_count": 368,
     "metadata": {},
     "output_type": "execute_result"
    }
   ],
   "source": [
    "np.dot(np.dot(x.T, np.linalg.inv(np.dot(np.dot(X.T, np.linalg.inv(Sigma)), X))),x)[0,0] * sigma\n"
   ]
  },
  {
   "cell_type": "code",
   "execution_count": 371,
   "metadata": {},
   "outputs": [
    {
     "data": {
      "text/plain": [
       "(array([[147.89441096]]), array([[151.81433893]]))"
      ]
     },
     "execution_count": 371,
     "metadata": {},
     "output_type": "execute_result"
    }
   ],
   "source": [
    "st.norm.interval(0.95, loc=y_hat, scale=1)"
   ]
  },
  {
   "cell_type": "code",
   "execution_count": null,
   "metadata": {},
   "outputs": [],
   "source": []
  }
 ],
 "metadata": {
  "kernelspec": {
   "display_name": "Python 3",
   "language": "python",
   "name": "python3"
  },
  "language_info": {
   "codemirror_mode": {
    "name": "ipython",
    "version": 3
   },
   "file_extension": ".py",
   "mimetype": "text/x-python",
   "name": "python",
   "nbconvert_exporter": "python",
   "pygments_lexer": "ipython3",
   "version": "3.8.5"
  }
 },
 "nbformat": 4,
 "nbformat_minor": 4
}
