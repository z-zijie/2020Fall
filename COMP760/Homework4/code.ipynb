{
 "cells": [
  {
   "cell_type": "code",
   "execution_count": 111,
   "metadata": {},
   "outputs": [],
   "source": [
    "import pandas as pd\n",
    "import numpy as np\n",
    "import math\n",
    "import scipy.stats as st"
   ]
  },
  {
   "cell_type": "code",
   "execution_count": 112,
   "metadata": {
    "scrolled": true
   },
   "outputs": [
    {
     "name": "stdout",
     "output_type": "stream",
     "text": [
      "         Survived      Pclass         Sex         Age  \\\n",
      "count  887.000000  887.000000  887.000000  887.000000   \n",
      "mean     0.385569    2.305524    0.354002   29.471443   \n",
      "std      0.487004    0.836662    0.478480   14.121908   \n",
      "min      0.000000    1.000000    0.000000    0.420000   \n",
      "25%      0.000000    2.000000    0.000000   20.250000   \n",
      "50%      0.000000    3.000000    0.000000   28.000000   \n",
      "75%      1.000000    3.000000    1.000000   38.000000   \n",
      "max      1.000000    3.000000    1.000000   80.000000   \n",
      "\n",
      "       Siblings/Spouses Aboard  Parents/Children Aboard       Fare  \n",
      "count               887.000000               887.000000  887.00000  \n",
      "mean                  0.525366                 0.383315   32.30542  \n",
      "std                   1.104669                 0.807466   49.78204  \n",
      "min                   0.000000                 0.000000    0.00000  \n",
      "25%                   0.000000                 0.000000    7.92500  \n",
      "50%                   0.000000                 0.000000   14.45420  \n",
      "75%                   1.000000                 0.000000   31.13750  \n",
      "max                   8.000000                 6.000000  512.32920  \n",
      "- - - - - - - - - - - - - - - - - - - -\n"
     ]
    }
   ],
   "source": [
    "# Load dataset\n",
    "data = pd.read_csv('titanic_data.csv')\n",
    "print(data.describe())\n",
    "print('- - - - - - - - - - - - - - - - - - - -')"
   ]
  },
  {
   "cell_type": "code",
   "execution_count": 113,
   "metadata": {},
   "outputs": [
    {
     "name": "stdout",
     "output_type": "stream",
     "text": [
      "First, I divided these six features into two categories.\n",
      "CATEGORICAL_FEATURES and NUMERICAL_FEATURES\n",
      "For CATEGORICAL_FEATURES, I directly convert it to one-hot encoding.\n",
      "For NUMERICAL_FEATURES, binning the data and then convert it to one-hot encoding.\n",
      "         Survived    Pclass_1    Pclass_2    Pclass_3       Sex_0       Sex_1  \\\n",
      "count  887.000000  887.000000  887.000000  887.000000  887.000000  887.000000   \n",
      "mean     0.385569    0.243517    0.207441    0.549042    0.645998    0.354002   \n",
      "std      0.487004    0.429447    0.405703    0.497870    0.478480    0.478480   \n",
      "min      0.000000    0.000000    0.000000    0.000000    0.000000    0.000000   \n",
      "25%      0.000000    0.000000    0.000000    0.000000    0.000000    0.000000   \n",
      "50%      0.000000    0.000000    0.000000    1.000000    1.000000    0.000000   \n",
      "75%      1.000000    0.000000    0.000000    1.000000    1.000000    1.000000   \n",
      "max      1.000000    1.000000    1.000000    1.000000    1.000000    1.000000   \n",
      "\n",
      "       Siblings/Spouses Aboard_0  Siblings/Spouses Aboard_1  \\\n",
      "count                 887.000000                 887.000000   \n",
      "mean                    0.680947                   0.235626   \n",
      "std                     0.466373                   0.424629   \n",
      "min                     0.000000                   0.000000   \n",
      "25%                     0.000000                   0.000000   \n",
      "50%                     1.000000                   0.000000   \n",
      "75%                     1.000000                   0.000000   \n",
      "max                     1.000000                   1.000000   \n",
      "\n",
      "       Siblings/Spouses Aboard_2  Siblings/Spouses Aboard_3  ...  \\\n",
      "count                 887.000000                 887.000000  ...   \n",
      "mean                    0.031567                   0.018038  ...   \n",
      "std                     0.174943                   0.133165  ...   \n",
      "min                     0.000000                   0.000000  ...   \n",
      "25%                     0.000000                   0.000000  ...   \n",
      "50%                     0.000000                   0.000000  ...   \n",
      "75%                     0.000000                   0.000000  ...   \n",
      "max                     1.000000                   1.000000  ...   \n",
      "\n",
      "       Age_(0.419, 19.0]  Age_(19.0, 24.0]  Age_(24.0, 31.0]  \\\n",
      "count         887.000000        887.000000        887.000000   \n",
      "mean            0.224352          0.177001          0.214205   \n",
      "std             0.417390          0.381885          0.410501   \n",
      "min             0.000000          0.000000          0.000000   \n",
      "25%             0.000000          0.000000          0.000000   \n",
      "50%             0.000000          0.000000          0.000000   \n",
      "75%             0.000000          0.000000          0.000000   \n",
      "max             1.000000          1.000000          1.000000   \n",
      "\n",
      "       Age_(31.0, 40.4]  Age_(40.4, 80.0]  Fare_(-0.001, 7.858]  \\\n",
      "count        887.000000        887.000000            887.000000   \n",
      "mean           0.183766          0.200676              0.200676   \n",
      "std            0.387511          0.400732              0.400732   \n",
      "min            0.000000          0.000000              0.000000   \n",
      "25%            0.000000          0.000000              0.000000   \n",
      "50%            0.000000          0.000000              0.000000   \n",
      "75%            0.000000          0.000000              0.000000   \n",
      "max            1.000000          1.000000              1.000000   \n",
      "\n",
      "       Fare_(7.858, 10.5]  Fare_(10.5, 22.225]  Fare_(22.225, 39.688]  \\\n",
      "count          887.000000           887.000000             887.000000   \n",
      "mean             0.205186             0.193912               0.201804   \n",
      "std              0.404065             0.395584               0.401573   \n",
      "min              0.000000             0.000000               0.000000   \n",
      "25%              0.000000             0.000000               0.000000   \n",
      "50%              0.000000             0.000000               0.000000   \n",
      "75%              0.000000             0.000000               0.000000   \n",
      "max              1.000000             1.000000               1.000000   \n",
      "\n",
      "       Fare_(39.688, 512.329]  \n",
      "count              887.000000  \n",
      "mean                 0.198422  \n",
      "std                  0.399036  \n",
      "min                  0.000000  \n",
      "25%                  0.000000  \n",
      "50%                  0.000000  \n",
      "75%                  0.000000  \n",
      "max                  1.000000  \n",
      "\n",
      "[8 rows x 30 columns]\n",
      "- - - - - - - - - - - - - - - - - - - -\n"
     ]
    }
   ],
   "source": [
    "# Variable transform\n",
    "CATEGORICAL_FEATURES = ['Pclass', 'Sex', 'Siblings/Spouses Aboard', 'Parents/Children Aboard']\n",
    "NUMERICAL_FEATURES = ['Age', 'Fare']\n",
    "for feature_name in CATEGORICAL_FEATURES:\n",
    "    data = data.join(pd.get_dummies(data[feature_name], prefix=feature_name))\n",
    "    data.drop([feature_name], axis = 1, inplace=True)\n",
    "for feature_name in NUMERICAL_FEATURES:\n",
    "    data = data.join(pd.get_dummies(pd.qcut(data[feature_name], 5), prefix=feature_name))\n",
    "    data.drop([feature_name], axis = 1, inplace=True)\n",
    "print('First, I divided these six features into two categories.')\n",
    "print('CATEGORICAL_FEATURES and NUMERICAL_FEATURES')\n",
    "print('For CATEGORICAL_FEATURES, I directly convert it to one-hot encoding.')\n",
    "print('For NUMERICAL_FEATURES, binning the data and then convert it to one-hot encoding.')\n",
    "print(data.describe())\n",
    "print('- - - - - - - - - - - - - - - - - - - -')"
   ]
  },
  {
   "cell_type": "code",
   "execution_count": 110,
   "metadata": {},
   "outputs": [],
   "source": [
    "# Mutual Information\n",
    "\n",
    "# Conditional Probability\n",
    "def Pr(FEATURE, val, ):\n",
    "    "
   ]
  },
  {
   "cell_type": "code",
   "execution_count": null,
   "metadata": {},
   "outputs": [],
   "source": []
  }
 ],
 "metadata": {
  "kernelspec": {
   "display_name": "Python 3",
   "language": "python",
   "name": "python3"
  },
  "language_info": {
   "codemirror_mode": {
    "name": "ipython",
    "version": 3
   },
   "file_extension": ".py",
   "mimetype": "text/x-python",
   "name": "python",
   "nbconvert_exporter": "python",
   "pygments_lexer": "ipython3",
   "version": "3.8.5"
  }
 },
 "nbformat": 4,
 "nbformat_minor": 4
}
