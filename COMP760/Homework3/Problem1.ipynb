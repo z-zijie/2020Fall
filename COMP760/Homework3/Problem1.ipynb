{
 "cells": [
  {
   "cell_type": "code",
   "execution_count": 765,
   "metadata": {},
   "outputs": [],
   "source": [
    "import pandas as pd\n",
    "import numpy as np\n",
    "import math\n",
    "import scipy.stats as st"
   ]
  },
  {
   "cell_type": "code",
   "execution_count": 766,
   "metadata": {},
   "outputs": [
    {
     "data": {
      "text/html": [
       "<div>\n",
       "<style scoped>\n",
       "    .dataframe tbody tr th:only-of-type {\n",
       "        vertical-align: middle;\n",
       "    }\n",
       "\n",
       "    .dataframe tbody tr th {\n",
       "        vertical-align: top;\n",
       "    }\n",
       "\n",
       "    .dataframe thead th {\n",
       "        text-align: right;\n",
       "    }\n",
       "</style>\n",
       "<table border=\"1\" class=\"dataframe\">\n",
       "  <thead>\n",
       "    <tr style=\"text-align: right;\">\n",
       "      <th></th>\n",
       "      <th>Survived</th>\n",
       "      <th>Pclass</th>\n",
       "      <th>Sex</th>\n",
       "      <th>Age</th>\n",
       "      <th>Siblings/Spouses Aboard</th>\n",
       "      <th>Parents/Children Aboard</th>\n",
       "      <th>Fare</th>\n",
       "    </tr>\n",
       "  </thead>\n",
       "  <tbody>\n",
       "    <tr>\n",
       "      <th>0</th>\n",
       "      <td>0</td>\n",
       "      <td>3</td>\n",
       "      <td>0</td>\n",
       "      <td>22.0</td>\n",
       "      <td>1</td>\n",
       "      <td>0</td>\n",
       "      <td>7.2500</td>\n",
       "    </tr>\n",
       "    <tr>\n",
       "      <th>1</th>\n",
       "      <td>1</td>\n",
       "      <td>1</td>\n",
       "      <td>1</td>\n",
       "      <td>38.0</td>\n",
       "      <td>1</td>\n",
       "      <td>0</td>\n",
       "      <td>71.2833</td>\n",
       "    </tr>\n",
       "    <tr>\n",
       "      <th>2</th>\n",
       "      <td>1</td>\n",
       "      <td>3</td>\n",
       "      <td>1</td>\n",
       "      <td>26.0</td>\n",
       "      <td>0</td>\n",
       "      <td>0</td>\n",
       "      <td>7.9250</td>\n",
       "    </tr>\n",
       "    <tr>\n",
       "      <th>3</th>\n",
       "      <td>1</td>\n",
       "      <td>1</td>\n",
       "      <td>1</td>\n",
       "      <td>35.0</td>\n",
       "      <td>1</td>\n",
       "      <td>0</td>\n",
       "      <td>53.1000</td>\n",
       "    </tr>\n",
       "    <tr>\n",
       "      <th>4</th>\n",
       "      <td>0</td>\n",
       "      <td>3</td>\n",
       "      <td>0</td>\n",
       "      <td>35.0</td>\n",
       "      <td>0</td>\n",
       "      <td>0</td>\n",
       "      <td>8.0500</td>\n",
       "    </tr>\n",
       "    <tr>\n",
       "      <th>...</th>\n",
       "      <td>...</td>\n",
       "      <td>...</td>\n",
       "      <td>...</td>\n",
       "      <td>...</td>\n",
       "      <td>...</td>\n",
       "      <td>...</td>\n",
       "      <td>...</td>\n",
       "    </tr>\n",
       "    <tr>\n",
       "      <th>882</th>\n",
       "      <td>0</td>\n",
       "      <td>2</td>\n",
       "      <td>0</td>\n",
       "      <td>27.0</td>\n",
       "      <td>0</td>\n",
       "      <td>0</td>\n",
       "      <td>13.0000</td>\n",
       "    </tr>\n",
       "    <tr>\n",
       "      <th>883</th>\n",
       "      <td>1</td>\n",
       "      <td>1</td>\n",
       "      <td>1</td>\n",
       "      <td>19.0</td>\n",
       "      <td>0</td>\n",
       "      <td>0</td>\n",
       "      <td>30.0000</td>\n",
       "    </tr>\n",
       "    <tr>\n",
       "      <th>884</th>\n",
       "      <td>0</td>\n",
       "      <td>3</td>\n",
       "      <td>1</td>\n",
       "      <td>7.0</td>\n",
       "      <td>1</td>\n",
       "      <td>2</td>\n",
       "      <td>23.4500</td>\n",
       "    </tr>\n",
       "    <tr>\n",
       "      <th>885</th>\n",
       "      <td>1</td>\n",
       "      <td>1</td>\n",
       "      <td>0</td>\n",
       "      <td>26.0</td>\n",
       "      <td>0</td>\n",
       "      <td>0</td>\n",
       "      <td>30.0000</td>\n",
       "    </tr>\n",
       "    <tr>\n",
       "      <th>886</th>\n",
       "      <td>0</td>\n",
       "      <td>3</td>\n",
       "      <td>0</td>\n",
       "      <td>32.0</td>\n",
       "      <td>0</td>\n",
       "      <td>0</td>\n",
       "      <td>7.7500</td>\n",
       "    </tr>\n",
       "  </tbody>\n",
       "</table>\n",
       "<p>887 rows × 7 columns</p>\n",
       "</div>"
      ],
      "text/plain": [
       "     Survived  Pclass  Sex   Age  Siblings/Spouses Aboard  \\\n",
       "0           0       3    0  22.0                        1   \n",
       "1           1       1    1  38.0                        1   \n",
       "2           1       3    1  26.0                        0   \n",
       "3           1       1    1  35.0                        1   \n",
       "4           0       3    0  35.0                        0   \n",
       "..        ...     ...  ...   ...                      ...   \n",
       "882         0       2    0  27.0                        0   \n",
       "883         1       1    1  19.0                        0   \n",
       "884         0       3    1   7.0                        1   \n",
       "885         1       1    0  26.0                        0   \n",
       "886         0       3    0  32.0                        0   \n",
       "\n",
       "     Parents/Children Aboard     Fare  \n",
       "0                          0   7.2500  \n",
       "1                          0  71.2833  \n",
       "2                          0   7.9250  \n",
       "3                          0  53.1000  \n",
       "4                          0   8.0500  \n",
       "..                       ...      ...  \n",
       "882                        0  13.0000  \n",
       "883                        0  30.0000  \n",
       "884                        2  23.4500  \n",
       "885                        0  30.0000  \n",
       "886                        0   7.7500  \n",
       "\n",
       "[887 rows x 7 columns]"
      ]
     },
     "execution_count": 766,
     "metadata": {},
     "output_type": "execute_result"
    }
   ],
   "source": [
    "data = pd.read_csv('titanic_data.csv')\n",
    "data"
   ]
  },
  {
   "cell_type": "code",
   "execution_count": 767,
   "metadata": {},
   "outputs": [],
   "source": [
    "y_label = data['Survived'].to_numpy()\n",
    "X = data.drop(['Survived'], axis=1).to_numpy()\n",
    "N, D = X.shape\n",
    "X = np.append(np.array([[1] for i in range(N)]), X, axis=1)\n",
    "N, D = X.shape"
   ]
  },
  {
   "cell_type": "code",
   "execution_count": 768,
   "metadata": {},
   "outputs": [],
   "source": [
    "def dot(theta, X, i):\n",
    "    N, D = X.shape\n",
    "    ans = 0\n",
    "    for j in range(D):\n",
    "        ans = ans + theta[j]*X[i,j]\n",
    "    return ans"
   ]
  },
  {
   "cell_type": "code",
   "execution_count": 769,
   "metadata": {},
   "outputs": [],
   "source": [
    "def l(theta, X):\n",
    "    ans = 0\n",
    "    N, D = X.shape\n",
    "    for i in range(N):\n",
    "        ans = ans \\\n",
    "        -y_label[i]*math.log(1+math.exp(-dot(theta, X, i)))\\\n",
    "        -(1-y_label[i])*math.log(1+math.exp(dot(theta, X, i)))\n",
    "    return ans"
   ]
  },
  {
   "cell_type": "code",
   "execution_count": 770,
   "metadata": {},
   "outputs": [],
   "source": [
    "def nabla_l(theta, X):\n",
    "    N, D = X.shape\n",
    "    ans = np.zeros(D)\n",
    "    for i in range(N):\n",
    "        ans = ans + \\\n",
    "        (y_label[i] - 1/(1+math.exp(-dot(theta, X, i)))) * X[i,]\n",
    "    return ans"
   ]
  },
  {
   "cell_type": "code",
   "execution_count": 771,
   "metadata": {},
   "outputs": [],
   "source": [
    "def hessian(theta, X):\n",
    "    N, D = X.shape\n",
    "    ans = np.zeros((D,D))\n",
    "    for i in range(N):\n",
    "        ans = ans \\\n",
    "        - np.dot(np.asmatrix(X[i,]).T, np.asmatrix(X[i,]))\\\n",
    "        * math.exp(-dot(theta, X, i)) \\\n",
    "        / ((1+math.exp(-dot(theta, X, i)))**2)\n",
    "    return ans"
   ]
  },
  {
   "cell_type": "code",
   "execution_count": 772,
   "metadata": {},
   "outputs": [],
   "source": [
    "def GradientAscent(theta, X, epsilon):\n",
    "    nabla = nabla_l(theta, X)\n",
    "    nabla_norm = np.linalg.norm(nabla)\n",
    "    print(\"theta = \", theta)\n",
    "    print(\"nabla_norm = \", nabla_norm, \"\\n\")\n",
    "    while nabla_norm > epsilon:\n",
    "        Hessian = hessian(theta, X)\n",
    "        alpha = np.dot(np.linalg.inv(Hessian), nabla)\n",
    "        theta = theta - np.array(alpha)[0]\n",
    "        nabla = nabla_l(theta, X)\n",
    "        nabla_norm = np.linalg.norm(nabla)\n",
    "        print(\"theta = \", theta)\n",
    "        print(\"nabla_norm = \", nabla_norm, \"\\n\")\n",
    "    return theta"
   ]
  },
  {
   "cell_type": "code",
   "execution_count": 773,
   "metadata": {},
   "outputs": [],
   "source": [
    "# init parameter\n",
    "N, D = X.shape\n",
    "theta = np.array([0 for i in range(D)])\n",
    "epsilon = 1e-1"
   ]
  },
  {
   "cell_type": "code",
   "execution_count": 774,
   "metadata": {},
   "outputs": [
    {
     "name": "stdout",
     "output_type": "stream",
     "text": [
      "theta =  [0 0 0 0 0 0 0]\n",
      "nabla_norm =  4043.297274997574 \n",
      "\n",
      "theta =  [ 1.29729102e+00 -7.20135362e-01  2.03094224e+00 -2.47886747e-02\n",
      " -2.01165383e-01 -7.71336514e-02  1.61359036e-03]\n",
      "nabla_norm =  851.9838354569268 \n",
      "\n",
      "theta =  [ 2.24795287e+00 -1.07328272e+00  2.59294853e+00 -3.90996306e-02\n",
      " -3.45601865e-01 -1.03378863e-01  2.50249418e-03]\n",
      "nabla_norm =  153.64209589402654 \n",
      "\n",
      "theta =  [ 2.52222201 -1.17135233  2.74707544 -0.04320928 -0.39757009 -0.10654932\n",
      "  0.00276689]\n",
      "nabla_norm =  8.466344116460553 \n",
      "\n",
      "theta =  [ 2.5398976  -1.17763361  2.75724004 -0.04347261 -0.40180868 -0.10650616\n",
      "  0.00278559]\n",
      "nabla_norm =  0.030917228852270735 \n",
      "\n",
      "l(theta) =  -390.46596480557093\n"
     ]
    }
   ],
   "source": [
    "# fit\n",
    "theta = GradientAscent(theta, X, epsilon)\n",
    "print(\"l(theta) = \", l(theta, X))"
   ]
  },
  {
   "cell_type": "code",
   "execution_count": 775,
   "metadata": {},
   "outputs": [],
   "source": [
    "# asymptotic\n",
    "def fisher(theta, X):\n",
    "    return -hessian(theta, X)"
   ]
  },
  {
   "cell_type": "code",
   "execution_count": 776,
   "metadata": {},
   "outputs": [
    {
     "name": "stdout",
     "output_type": "stream",
     "text": [
      "mean =  [ 2.5398976  -1.17763361  2.75724004 -0.04347261 -0.40180868 -0.10650616\n",
      "  0.00278559]\n",
      "sigma =  [[ 2.85878325e-04 -7.25558561e-05  9.55952012e-06 -3.32097290e-06\n",
      "  -1.04587893e-05  2.59694307e-06 -5.96884356e-07]\n",
      " [-7.25558561e-05  2.40572406e-05 -7.81153266e-06  5.75781830e-07\n",
      "   5.18080627e-07 -1.87872676e-06  1.92160429e-07]\n",
      " [ 9.55952012e-06 -7.81153266e-06  4.52827834e-05 -2.00717986e-07\n",
      "  -4.26760245e-06 -5.28294738e-06 -5.21408591e-09]\n",
      " [-3.32097290e-06  5.75781830e-07 -2.00717986e-07  6.72365193e-08\n",
      "   2.41725740e-07  3.96455426e-08  7.11843664e-10]\n",
      " [-1.04587893e-05  5.18080627e-07 -4.26760245e-06  2.41725740e-07\n",
      "   1.38180832e-05 -3.77737769e-06 -3.89853962e-08]\n",
      " [ 2.59694307e-06 -1.87872676e-06 -5.28294738e-06  3.96455426e-08\n",
      "  -3.77737769e-06  1.58545626e-05 -6.77220823e-08]\n",
      " [-5.96884356e-07  1.92160429e-07 -5.21408591e-09  7.11843664e-10\n",
      "  -3.89853962e-08 -6.77220823e-08  6.43654223e-09]]\n"
     ]
    }
   ],
   "source": [
    "Mean = theta\n",
    "Sigma = np.linalg.inv(fisher(theta, X))/N\n",
    "print(\"mean = \", Mean)\n",
    "print(\"sigma = \", Sigma)"
   ]
  },
  {
   "cell_type": "code",
   "execution_count": 794,
   "metadata": {},
   "outputs": [
    {
     "name": "stdout",
     "output_type": "stream",
     "text": [
      "omega =  -2.2487235177890494\n",
      "y_ =  0.0954596285185124\n"
     ]
    }
   ],
   "source": [
    "# Example\n",
    "x = np.array([1,3,0,22,0,3,7.25])\n",
    "omega = np.dot(np.asmatrix(theta), np.asmatrix(x).T).tolist()[0][0]\n",
    "y_ = 1/(1+math.exp(-omega))\n",
    "print('omega = ', omega)\n",
    "print('y_ = ', y_)"
   ]
  },
  {
   "cell_type": "code",
   "execution_count": 778,
   "metadata": {},
   "outputs": [
    {
     "name": "stdout",
     "output_type": "stream",
     "text": [
      "tau =  0.02451864954578653\n",
      "(-2.273242167334836, -2.224204868243263)\n"
     ]
    }
   ],
   "source": [
    "# derive tau\n",
    "alpha = 0.05\n",
    "std_omega = math.sqrt(np.dot(np.dot(np.asmatrix(x), np.linalg.inv(fisher(theta, X))),np.asmatrix(x).T).tolist()[0][0]/N)\n",
    "tau = st.norm.interval(1-alpha, loc = omega, scale = std_omega)\n",
    "print('tau = ', tau[1] - omega)\n",
    "print(tau)"
   ]
  },
  {
   "cell_type": "code",
   "execution_count": 792,
   "metadata": {},
   "outputs": [
    {
     "name": "stdout",
     "output_type": "stream",
     "text": [
      "0 22565.823575436818\n",
      "1 57646.71571685728\n",
      "2 167886.60214844203\n",
      "3 28107.75529789129\n",
      "4 11683.980296794394\n",
      "5 715.4761881830041\n",
      "6 1205.543082667493\n",
      "alpha = 0.05 , 3.841458820694124\n"
     ]
    }
   ],
   "source": [
    "# Learning Significant Features\n",
    "df = 1\n",
    "st.chi2.ppf(1-alpha, df)\n",
    "Sigma = np.linalg.inv(fisher(theta, X))/N\n",
    "for j in range(D):\n",
    "    v = (Sigma[j,j])\n",
    "    print(j,theta[j]*theta[j]/v)\n",
    "print('alpha =', alpha, ',', st.chi2.ppf(1-alpha, df))"
   ]
  },
  {
   "cell_type": "code",
   "execution_count": 795,
   "metadata": {},
   "outputs": [
    {
     "name": "stdout",
     "output_type": "stream",
     "text": [
      "omega =  0.5085165237978917\n",
      "y_ =  0.6244586486812256\n"
     ]
    }
   ],
   "source": [
    "# Example\n",
    "x = np.array([1,3,1,22,0,3,7.25])\n",
    "omega = np.dot(np.asmatrix(theta), np.asmatrix(x).T).tolist()[0][0]\n",
    "y_ = 1/(1+math.exp(-omega))\n",
    "print('omega = ', omega)\n",
    "print('y_ = ', y_)"
   ]
  },
  {
   "cell_type": "code",
   "execution_count": null,
   "metadata": {},
   "outputs": [],
   "source": []
  }
 ],
 "metadata": {
  "kernelspec": {
   "display_name": "Python 3",
   "language": "python",
   "name": "python3"
  },
  "language_info": {
   "codemirror_mode": {
    "name": "ipython",
    "version": 3
   },
   "file_extension": ".py",
   "mimetype": "text/x-python",
   "name": "python",
   "nbconvert_exporter": "python",
   "pygments_lexer": "ipython3",
   "version": "3.8.3"
  }
 },
 "nbformat": 4,
 "nbformat_minor": 4
}
