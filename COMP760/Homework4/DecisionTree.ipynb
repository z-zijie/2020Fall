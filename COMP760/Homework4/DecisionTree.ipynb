{
 "cells": [
  {
   "cell_type": "code",
   "execution_count": 219,
   "metadata": {},
   "outputs": [],
   "source": [
    "import pandas as pd\n",
    "import numpy as np\n",
    "import math\n",
    "import scipy.stats as st\n",
    "import networkx as nx\n",
    "import matplotlib.pyplot as plt"
   ]
  },
  {
   "cell_type": "code",
   "execution_count": 220,
   "metadata": {},
   "outputs": [],
   "source": [
    "# Load dataset\n",
    "data = pd.read_csv('titanic_data.csv')\n",
    "data['Pclass'] = data['Pclass'] - 1\n",
    "features = [Str for Str in data.columns]\n",
    "Data = [data[LIST].tolist() for LIST in features]"
   ]
  },
  {
   "cell_type": "code",
   "execution_count": 221,
   "metadata": {},
   "outputs": [],
   "source": [
    "# One-Hot Encoding\n",
    "\n",
    "# CATEGORICAL_FEATURES \n",
    "N = len(Data[0])\n",
    "for index in [0, 1, 2, 4, 5]:\n",
    "    OneHotEncoder = np.identity(max(Data[index]) - min(Data[index]) + 1)\n",
    "    for i in range(N):\n",
    "        Data[index][i] = OneHotEncoder[Data[index][i]]\n",
    "# NUMERICAL_FEATURES \n",
    "# Age binning\n",
    "OneHotEncoder = np.identity(7)\n",
    "bins = np.linspace(0, 100, 9)\n",
    "for i in range(N):\n",
    "    Data[3][i] = OneHotEncoder[np.digitize(Data[3][i], bins) - 1]\n",
    "# Fare binning\n",
    "OneHotEncoder = np.identity(20)\n",
    "bins = np.linspace(0, 600, 21)\n",
    "for i in range(N):\n",
    "    Data[6][i] = OneHotEncoder[np.digitize(Data[6][i], bins) - 1]"
   ]
  },
  {
   "cell_type": "code",
   "execution_count": 222,
   "metadata": {},
   "outputs": [],
   "source": [
    "# Entropy\n",
    "def Entropy(INDEX, DATA):\n",
    "    vals = len(DATA[INDEX][0])\n",
    "    SUM = len(DATA[INDEX])\n",
    "    Sum = np.zeros(vals)\n",
    "    for x in DATA[INDEX]:\n",
    "        Sum = Sum + x\n",
    "    ans = 0\n",
    "    for i in range(vals):\n",
    "        Pr = Sum[i] / SUM\n",
    "        if Pr <= 0:\n",
    "            continue\n",
    "        ans = ans - Pr * math.log(Pr)\n",
    "    return ans"
   ]
  },
  {
   "cell_type": "code",
   "execution_count": 228,
   "metadata": {},
   "outputs": [],
   "source": [
    "# Split Data\n",
    "def Split(INDEX, val, DATA):\n",
    "    N = len(DATA[INDEX])\n",
    "    index_set = [i for i in range(N) if DATA[INDEX][i][val] == 1]\n",
    "    New_data = []\n",
    "    for feature_index in range(7):\n",
    "        New_data.append([DATA[feature_index][i] for i in index_set])\n",
    "    return New_data"
   ]
  },
  {
   "cell_type": "code",
   "execution_count": 232,
   "metadata": {},
   "outputs": [],
   "source": [
    "# Conditional Entropy\n",
    "def H(INDEX1, INDEX2, DATA):\n",
    "    vals_2 = len(DATA[INDEX2][0])\n",
    "    SUM2 = len(DATA[INDEX2])\n",
    "    Sum_2 = np.zeros(vals_2)\n",
    "    for x in DATA[INDEX2]:\n",
    "        Sum_2 = Sum_2 + x\n",
    "    ans = 0\n",
    "    for i in range(vals_2):\n",
    "        Pr = Sum_2[i] / SUM2\n",
    "        New_data = Split(INDEX2, i, DATA)\n",
    "        entropy = Entropy(INDEX1, New_data)\n",
    "        ans = ans + Pr * entropy\n",
    "    return ans"
   ]
  },
  {
   "cell_type": "code",
   "execution_count": 235,
   "metadata": {},
   "outputs": [],
   "source": [
    "# Mutual Information\n",
    "def I(INDEX1, INDEX2, DATA):\n",
    "    return Entropy(INDEX1, DATA) - H(INDEX1, INDEX2, DATA)"
   ]
  },
  {
   "cell_type": "code",
   "execution_count": null,
   "metadata": {},
   "outputs": [],
   "source": []
  }
 ],
 "metadata": {
  "kernelspec": {
   "display_name": "Python 3",
   "language": "python",
   "name": "python3"
  },
  "language_info": {
   "codemirror_mode": {
    "name": "ipython",
    "version": 3
   },
   "file_extension": ".py",
   "mimetype": "text/x-python",
   "name": "python",
   "nbconvert_exporter": "python",
   "pygments_lexer": "ipython3",
   "version": "3.8.5-final"
  }
 },
 "nbformat": 4,
 "nbformat_minor": 4
}